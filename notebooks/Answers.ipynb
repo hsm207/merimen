{
 "cells": [
  {
   "cell_type": "markdown",
   "metadata": {},
   "source": [
    "# Question 1"
   ]
  },
  {
   "cell_type": "markdown",
   "metadata": {},
   "source": [
    "## Question\n",
    "![](https://i.postimg.cc/ZRhGV1WV/q1.png)"
   ]
  },
  {
   "cell_type": "markdown",
   "metadata": {},
   "source": [
    "## Answer\n",
    "\n",
    "The following are the customer IDs that are to be labelled as \"FRAUD\":\n",
    "\n",
    "1. 2010\n",
    "2. 2039\n",
    "3. 2080\n",
    "4. 2082\n",
    "5. 2093"
   ]
  },
  {
   "attachments": {},
   "cell_type": "markdown",
   "metadata": {},
   "source": [
    "# Question 2"
   ]
  },
  {
   "cell_type": "markdown",
   "metadata": {},
   "source": [
    "## Question\n",
    "\n",
    "![](https://i.postimg.cc/9QwXSHfh/q2.png)"
   ]
  },
  {
   "cell_type": "markdown",
   "metadata": {},
   "source": [
    "## Answer\n",
    "\n",
    "I used an Autoencoder to model the customers in sheet 1 (\"Data\") and used the reconstruction loss to determine which customer(s) in the \"Test\" sheet are likely to be fraudulent. This method is inspired by [this](https://arxiv.org/abs/1709.05254) paper.\n",
    "\n",
    "Please see the [03_Modelling](./03_Modelling.ipynb#Predicting-on-the-Test-Set) notebook for the full implementation details."
   ]
  },
  {
   "cell_type": "markdown",
   "metadata": {},
   "source": [
    "# Question 3"
   ]
  },
  {
   "cell_type": "markdown",
   "metadata": {},
   "source": [
    "## Question\n",
    "![](https://i.postimg.cc/tJDdLV2Y/q3.png)"
   ]
  },
  {
   "cell_type": "markdown",
   "metadata": {},
   "source": [
    "## Answer\n",
    "\n",
    "I could identify 3 different groups of customers from sheet 1 using HDBSCAN.\n",
    "\n",
    "Please see the [01_EDA](./01_EDA.ipynb#Number-of-customer-groups) notebook for the full implementation details."
   ]
  },
  {
   "cell_type": "markdown",
   "metadata": {},
   "source": [
    "# Question 4"
   ]
  },
  {
   "cell_type": "markdown",
   "metadata": {},
   "source": [
    "## Question\n",
    "![](https://i.postimg.cc/mkc2GvSC/q4.png)"
   ]
  },
  {
   "cell_type": "markdown",
   "metadata": {},
   "source": [
    "## Answer\n",
    "\n",
    "I start by building a simple autoencoder as a baseline.\n",
    "\n",
    "Then, I gradually add more complexity to the autoencoder and experiment with various hyperparameter configurations to attempt to get the reconstruction loss (mean squared error) on both the training and validation set to be as low as possible. \n",
    "\n",
    "Another criteria I used to be favor the model that has a higher reconstruction loss on the customers that are known to be fraudulent relative to a random sample of customers from the validation set, which is likely to consist of genuine customers since according to the bank, the majority of their customers are not fraudulent.\n",
    "\n",
    "Please click [here](./03_Modelling.ipynb#Model) notebook for the full implementation details."
   ]
  },
  {
   "cell_type": "markdown",
   "metadata": {},
   "source": [
    "# Question 5"
   ]
  },
  {
   "cell_type": "markdown",
   "metadata": {},
   "source": [
    "## Question\n",
    "\n",
    "![](https://i.postimg.cc/Gtrtv7Py/q5.png)"
   ]
  },
  {
   "cell_type": "markdown",
   "metadata": {},
   "source": [
    "## Answer"
   ]
  },
  {
   "cell_type": "markdown",
   "metadata": {},
   "source": [
    "I will start by generating explanations for my model's predictions using methods like LIME and/or SHAP values. These methods will tell us which of the features (the 11 Behaviors) had the biggest contribution to the customer's fraud score i.e. normalized reconstruction loss and the sensitivity of those features to the fraud score.\n",
    "\n",
    "Next, I will present these explanations to the human expert. If the explanations offered by the model is consistent with how the human expert would judge a customer based on the 11 behavior factors, then there is no reason for the human expert to not agree with the recommendations made by the model.\n",
    "\n",
    "On the other hand, if the recommendations is correct but the explanation is nonsensical/wrong, then more work needs to be done. In particular, we need to understand how the human expert evaluates the 11 behaviors e.g. is there a particular set of features that gets more attention or critical values that would cause the customer to be immediately flagged as FRAUD? I will then update the design of the autoencoder to encode the knowledge from the human expert."
   ]
  }
 ],
 "metadata": {
  "kernelspec": {
   "display_name": "Python 3",
   "language": "python",
   "name": "python3"
  },
  "language_info": {
   "codemirror_mode": {
    "name": "ipython",
    "version": 3
   },
   "file_extension": ".py",
   "mimetype": "text/x-python",
   "name": "python",
   "nbconvert_exporter": "python",
   "pygments_lexer": "ipython3",
   "version": "3.6.8"
  }
 },
 "nbformat": 4,
 "nbformat_minor": 2
}
