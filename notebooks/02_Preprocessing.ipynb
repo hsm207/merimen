{
 "cells": [
  {
   "cell_type": "markdown",
   "metadata": {},
   "source": [
    "# Introduction"
   ]
  },
  {
   "cell_type": "markdown",
   "metadata": {},
   "source": [
    "This notebook does some preprocessing on the data in `sheet 1` and then splits it into a training and validation set."
   ]
  },
  {
   "cell_type": "markdown",
   "metadata": {},
   "source": [
    "# Setup"
   ]
  },
  {
   "cell_type": "markdown",
   "metadata": {},
   "source": [
    "Navigate to the root folder:"
   ]
  },
  {
   "cell_type": "code",
   "execution_count": 1,
   "metadata": {},
   "outputs": [
    {
     "name": "stdout",
     "output_type": "stream",
     "text": [
      "/tf\n"
     ]
    }
   ],
   "source": [
    "%cd .."
   ]
  },
  {
   "cell_type": "markdown",
   "metadata": {},
   "source": [
    "# Libraries"
   ]
  },
  {
   "cell_type": "code",
   "execution_count": 2,
   "metadata": {},
   "outputs": [],
   "source": [
    "import pandas as pd\n",
    "import numpy as np\n",
    "\n",
    "from sklearn.model_selection import train_test_split\n",
    "from sklearn.preprocessing import StandardScaler"
   ]
  },
  {
   "cell_type": "markdown",
   "metadata": {},
   "source": [
    "# Data"
   ]
  },
  {
   "cell_type": "code",
   "execution_count": 3,
   "metadata": {},
   "outputs": [],
   "source": [
    "data_file = \"./data/FraudDetection_Dataset.xlsx\"\n",
    "\n",
    "df_unknown = pd.read_excel(data_file,\n",
    "                           sheet_name=\"Data\")\n",
    "\n",
    "df_fraud = pd.read_excel(data_file,\n",
    "                         sheet_name=\"KnownFraud\")\n",
    "\n",
    "df_test = pd.read_excel(data_file,\n",
    "                        sheet_name=\"Test\")"
   ]
  },
  {
   "cell_type": "code",
   "execution_count": 4,
   "metadata": {},
   "outputs": [
    {
     "data": {
      "text/html": [
       "<div>\n",
       "<style scoped>\n",
       "    .dataframe tbody tr th:only-of-type {\n",
       "        vertical-align: middle;\n",
       "    }\n",
       "\n",
       "    .dataframe tbody tr th {\n",
       "        vertical-align: top;\n",
       "    }\n",
       "\n",
       "    .dataframe thead th {\n",
       "        text-align: right;\n",
       "    }\n",
       "</style>\n",
       "<table border=\"1\" class=\"dataframe\">\n",
       "  <thead>\n",
       "    <tr style=\"text-align: right;\">\n",
       "      <th></th>\n",
       "      <th>CustomerID</th>\n",
       "      <th>Behavior1</th>\n",
       "      <th>Behavior2</th>\n",
       "      <th>Behavior3</th>\n",
       "      <th>Behavior4</th>\n",
       "      <th>Behavior5</th>\n",
       "      <th>Behavior6</th>\n",
       "      <th>Behavior7</th>\n",
       "      <th>Behavior8</th>\n",
       "      <th>Behavior9</th>\n",
       "      <th>Behavior10</th>\n",
       "      <th>Behavior11</th>\n",
       "    </tr>\n",
       "  </thead>\n",
       "  <tbody>\n",
       "    <tr>\n",
       "      <th>0</th>\n",
       "      <td>1</td>\n",
       "      <td>6.653114</td>\n",
       "      <td>13.689702</td>\n",
       "      <td>17.552845</td>\n",
       "      <td>-11.933497</td>\n",
       "      <td>-5.756409</td>\n",
       "      <td>15.435921</td>\n",
       "      <td>-12.136752</td>\n",
       "      <td>8.224123</td>\n",
       "      <td>-4.884024</td>\n",
       "      <td>5.349335</td>\n",
       "      <td>17.351372</td>\n",
       "    </tr>\n",
       "    <tr>\n",
       "      <th>1</th>\n",
       "      <td>2</td>\n",
       "      <td>-5.630542</td>\n",
       "      <td>-18.937667</td>\n",
       "      <td>18.644624</td>\n",
       "      <td>-6.155825</td>\n",
       "      <td>-25.988864</td>\n",
       "      <td>15.409553</td>\n",
       "      <td>-16.595516</td>\n",
       "      <td>9.454654</td>\n",
       "      <td>-2.877173</td>\n",
       "      <td>-6.009420</td>\n",
       "      <td>19.210636</td>\n",
       "    </tr>\n",
       "    <tr>\n",
       "      <th>2</th>\n",
       "      <td>3</td>\n",
       "      <td>9.721525</td>\n",
       "      <td>-9.982489</td>\n",
       "      <td>15.571434</td>\n",
       "      <td>-32.224266</td>\n",
       "      <td>-5.595799</td>\n",
       "      <td>24.321383</td>\n",
       "      <td>0.832774</td>\n",
       "      <td>10.794555</td>\n",
       "      <td>0.727575</td>\n",
       "      <td>10.392975</td>\n",
       "      <td>7.085995</td>\n",
       "    </tr>\n",
       "    <tr>\n",
       "      <th>3</th>\n",
       "      <td>4</td>\n",
       "      <td>-4.635766</td>\n",
       "      <td>-10.716040</td>\n",
       "      <td>20.356571</td>\n",
       "      <td>-9.002097</td>\n",
       "      <td>-4.920569</td>\n",
       "      <td>-4.261958</td>\n",
       "      <td>-1.305829</td>\n",
       "      <td>0.949980</td>\n",
       "      <td>-8.634107</td>\n",
       "      <td>0.198445</td>\n",
       "      <td>0.006771</td>\n",
       "    </tr>\n",
       "    <tr>\n",
       "      <th>4</th>\n",
       "      <td>5</td>\n",
       "      <td>-12.841044</td>\n",
       "      <td>-20.388313</td>\n",
       "      <td>9.491936</td>\n",
       "      <td>-7.038500</td>\n",
       "      <td>-9.921087</td>\n",
       "      <td>-3.716105</td>\n",
       "      <td>-9.384730</td>\n",
       "      <td>-2.325534</td>\n",
       "      <td>-13.518562</td>\n",
       "      <td>11.007029</td>\n",
       "      <td>14.003210</td>\n",
       "    </tr>\n",
       "  </tbody>\n",
       "</table>\n",
       "</div>"
      ],
      "text/plain": [
       "   CustomerID  Behavior1  Behavior2  Behavior3  Behavior4  Behavior5  \\\n",
       "0           1   6.653114  13.689702  17.552845 -11.933497  -5.756409   \n",
       "1           2  -5.630542 -18.937667  18.644624  -6.155825 -25.988864   \n",
       "2           3   9.721525  -9.982489  15.571434 -32.224266  -5.595799   \n",
       "3           4  -4.635766 -10.716040  20.356571  -9.002097  -4.920569   \n",
       "4           5 -12.841044 -20.388313   9.491936  -7.038500  -9.921087   \n",
       "\n",
       "   Behavior6  Behavior7  Behavior8  Behavior9  Behavior10  Behavior11  \n",
       "0  15.435921 -12.136752   8.224123  -4.884024    5.349335   17.351372  \n",
       "1  15.409553 -16.595516   9.454654  -2.877173   -6.009420   19.210636  \n",
       "2  24.321383   0.832774  10.794555   0.727575   10.392975    7.085995  \n",
       "3  -4.261958  -1.305829   0.949980  -8.634107    0.198445    0.006771  \n",
       "4  -3.716105  -9.384730  -2.325534 -13.518562   11.007029   14.003210  "
      ]
     },
     "execution_count": 4,
     "metadata": {},
     "output_type": "execute_result"
    }
   ],
   "source": [
    "df_unknown.head()"
   ]
  },
  {
   "cell_type": "code",
   "execution_count": 5,
   "metadata": {},
   "outputs": [
    {
     "data": {
      "text/html": [
       "<div>\n",
       "<style scoped>\n",
       "    .dataframe tbody tr th:only-of-type {\n",
       "        vertical-align: middle;\n",
       "    }\n",
       "\n",
       "    .dataframe tbody tr th {\n",
       "        vertical-align: top;\n",
       "    }\n",
       "\n",
       "    .dataframe thead th {\n",
       "        text-align: right;\n",
       "    }\n",
       "</style>\n",
       "<table border=\"1\" class=\"dataframe\">\n",
       "  <thead>\n",
       "    <tr style=\"text-align: right;\">\n",
       "      <th></th>\n",
       "      <th>CustomerID</th>\n",
       "      <th>Behavior1</th>\n",
       "      <th>Behavior2</th>\n",
       "      <th>Behavior3</th>\n",
       "      <th>Behavior4</th>\n",
       "      <th>Behavior5</th>\n",
       "      <th>Behavior6</th>\n",
       "      <th>Behavior7</th>\n",
       "      <th>Behavior8</th>\n",
       "      <th>Behavior9</th>\n",
       "      <th>Behavior10</th>\n",
       "      <th>Behavior11</th>\n",
       "      <th>Marker</th>\n",
       "    </tr>\n",
       "  </thead>\n",
       "  <tbody>\n",
       "    <tr>\n",
       "      <th>0</th>\n",
       "      <td>1001</td>\n",
       "      <td>18.271283</td>\n",
       "      <td>-12.359268</td>\n",
       "      <td>5.000970</td>\n",
       "      <td>1.611472</td>\n",
       "      <td>1.088592</td>\n",
       "      <td>29.314410</td>\n",
       "      <td>-8.313531</td>\n",
       "      <td>36.438338</td>\n",
       "      <td>-9.476679</td>\n",
       "      <td>-25.92820</td>\n",
       "      <td>7.108628</td>\n",
       "      <td>FRAUD</td>\n",
       "    </tr>\n",
       "    <tr>\n",
       "      <th>1</th>\n",
       "      <td>1002</td>\n",
       "      <td>12.953176</td>\n",
       "      <td>-10.350333</td>\n",
       "      <td>19.857858</td>\n",
       "      <td>-24.424608</td>\n",
       "      <td>3.266105</td>\n",
       "      <td>30.445290</td>\n",
       "      <td>-11.125842</td>\n",
       "      <td>12.815629</td>\n",
       "      <td>9.351355</td>\n",
       "      <td>-6.11362</td>\n",
       "      <td>17.627380</td>\n",
       "      <td>FRAUD</td>\n",
       "    </tr>\n",
       "    <tr>\n",
       "      <th>2</th>\n",
       "      <td>1003</td>\n",
       "      <td>16.564435</td>\n",
       "      <td>15.684168</td>\n",
       "      <td>17.543187</td>\n",
       "      <td>-12.700243</td>\n",
       "      <td>0.537667</td>\n",
       "      <td>9.147008</td>\n",
       "      <td>-8.376931</td>\n",
       "      <td>20.664013</td>\n",
       "      <td>6.553167</td>\n",
       "      <td>35.36919</td>\n",
       "      <td>-14.351700</td>\n",
       "      <td>FRAUD</td>\n",
       "    </tr>\n",
       "    <tr>\n",
       "      <th>3</th>\n",
       "      <td>1004</td>\n",
       "      <td>6.717709</td>\n",
       "      <td>-31.671866</td>\n",
       "      <td>14.436564</td>\n",
       "      <td>-19.513431</td>\n",
       "      <td>-9.096539</td>\n",
       "      <td>-12.313000</td>\n",
       "      <td>-19.860870</td>\n",
       "      <td>26.672534</td>\n",
       "      <td>9.316382</td>\n",
       "      <td>-9.75309</td>\n",
       "      <td>-0.324570</td>\n",
       "      <td>FRAUD</td>\n",
       "    </tr>\n",
       "    <tr>\n",
       "      <th>4</th>\n",
       "      <td>1005</td>\n",
       "      <td>28.086200</td>\n",
       "      <td>-12.640820</td>\n",
       "      <td>23.794977</td>\n",
       "      <td>-0.025830</td>\n",
       "      <td>-5.809310</td>\n",
       "      <td>-0.604880</td>\n",
       "      <td>-3.439889</td>\n",
       "      <td>6.395132</td>\n",
       "      <td>-5.536944</td>\n",
       "      <td>13.93349</td>\n",
       "      <td>4.453282</td>\n",
       "      <td>FRAUD</td>\n",
       "    </tr>\n",
       "  </tbody>\n",
       "</table>\n",
       "</div>"
      ],
      "text/plain": [
       "   CustomerID  Behavior1  Behavior2  Behavior3  Behavior4  Behavior5  \\\n",
       "0        1001  18.271283 -12.359268   5.000970   1.611472   1.088592   \n",
       "1        1002  12.953176 -10.350333  19.857858 -24.424608   3.266105   \n",
       "2        1003  16.564435  15.684168  17.543187 -12.700243   0.537667   \n",
       "3        1004   6.717709 -31.671866  14.436564 -19.513431  -9.096539   \n",
       "4        1005  28.086200 -12.640820  23.794977  -0.025830  -5.809310   \n",
       "\n",
       "   Behavior6  Behavior7  Behavior8  Behavior9  Behavior10  Behavior11 Marker  \n",
       "0  29.314410  -8.313531  36.438338  -9.476679   -25.92820    7.108628  FRAUD  \n",
       "1  30.445290 -11.125842  12.815629   9.351355    -6.11362   17.627380  FRAUD  \n",
       "2   9.147008  -8.376931  20.664013   6.553167    35.36919  -14.351700  FRAUD  \n",
       "3 -12.313000 -19.860870  26.672534   9.316382    -9.75309   -0.324570  FRAUD  \n",
       "4  -0.604880  -3.439889   6.395132  -5.536944    13.93349    4.453282  FRAUD  "
      ]
     },
     "execution_count": 5,
     "metadata": {},
     "output_type": "execute_result"
    }
   ],
   "source": [
    "df_fraud.head()"
   ]
  },
  {
   "cell_type": "code",
   "execution_count": 6,
   "metadata": {},
   "outputs": [
    {
     "data": {
      "text/html": [
       "<div>\n",
       "<style scoped>\n",
       "    .dataframe tbody tr th:only-of-type {\n",
       "        vertical-align: middle;\n",
       "    }\n",
       "\n",
       "    .dataframe tbody tr th {\n",
       "        vertical-align: top;\n",
       "    }\n",
       "\n",
       "    .dataframe thead th {\n",
       "        text-align: right;\n",
       "    }\n",
       "</style>\n",
       "<table border=\"1\" class=\"dataframe\">\n",
       "  <thead>\n",
       "    <tr style=\"text-align: right;\">\n",
       "      <th></th>\n",
       "      <th>CustomerID</th>\n",
       "      <th>Behavior1</th>\n",
       "      <th>Behavior2</th>\n",
       "      <th>Behavior3</th>\n",
       "      <th>Behavior4</th>\n",
       "      <th>Behavior5</th>\n",
       "      <th>Behavior6</th>\n",
       "      <th>Behavior7</th>\n",
       "      <th>Behavior8</th>\n",
       "      <th>Behavior9</th>\n",
       "      <th>Behavior10</th>\n",
       "      <th>Behavior11</th>\n",
       "      <th>Marker</th>\n",
       "    </tr>\n",
       "  </thead>\n",
       "  <tbody>\n",
       "    <tr>\n",
       "      <th>0</th>\n",
       "      <td>2001</td>\n",
       "      <td>-3.193070</td>\n",
       "      <td>-19.705821</td>\n",
       "      <td>6.528556</td>\n",
       "      <td>-21.570858</td>\n",
       "      <td>3.050556</td>\n",
       "      <td>23.477503</td>\n",
       "      <td>-1.133420</td>\n",
       "      <td>12.688409</td>\n",
       "      <td>-10.968301</td>\n",
       "      <td>-1.198666</td>\n",
       "      <td>1.908441</td>\n",
       "      <td>NaN</td>\n",
       "    </tr>\n",
       "    <tr>\n",
       "      <th>1</th>\n",
       "      <td>2002</td>\n",
       "      <td>-5.256678</td>\n",
       "      <td>-12.918720</td>\n",
       "      <td>25.435141</td>\n",
       "      <td>-7.231568</td>\n",
       "      <td>3.647838</td>\n",
       "      <td>12.366550</td>\n",
       "      <td>-6.512076</td>\n",
       "      <td>8.750902</td>\n",
       "      <td>-0.768755</td>\n",
       "      <td>-3.261094</td>\n",
       "      <td>13.729474</td>\n",
       "      <td>NaN</td>\n",
       "    </tr>\n",
       "    <tr>\n",
       "      <th>2</th>\n",
       "      <td>2003</td>\n",
       "      <td>3.763819</td>\n",
       "      <td>-5.728187</td>\n",
       "      <td>11.400169</td>\n",
       "      <td>-17.555297</td>\n",
       "      <td>-6.246576</td>\n",
       "      <td>16.155969</td>\n",
       "      <td>-9.724758</td>\n",
       "      <td>16.996616</td>\n",
       "      <td>-5.168654</td>\n",
       "      <td>0.187994</td>\n",
       "      <td>11.401234</td>\n",
       "      <td>NaN</td>\n",
       "    </tr>\n",
       "    <tr>\n",
       "      <th>3</th>\n",
       "      <td>2004</td>\n",
       "      <td>-8.701132</td>\n",
       "      <td>-5.139959</td>\n",
       "      <td>21.404200</td>\n",
       "      <td>-18.084270</td>\n",
       "      <td>-9.109825</td>\n",
       "      <td>6.903168</td>\n",
       "      <td>-3.486003</td>\n",
       "      <td>0.273855</td>\n",
       "      <td>-7.548916</td>\n",
       "      <td>9.057031</td>\n",
       "      <td>2.890973</td>\n",
       "      <td>NaN</td>\n",
       "    </tr>\n",
       "    <tr>\n",
       "      <th>4</th>\n",
       "      <td>2005</td>\n",
       "      <td>2.278052</td>\n",
       "      <td>-11.677949</td>\n",
       "      <td>21.587127</td>\n",
       "      <td>-24.207612</td>\n",
       "      <td>0.506218</td>\n",
       "      <td>-5.678402</td>\n",
       "      <td>14.149213</td>\n",
       "      <td>-3.416211</td>\n",
       "      <td>-1.982982</td>\n",
       "      <td>16.541657</td>\n",
       "      <td>4.778478</td>\n",
       "      <td>NaN</td>\n",
       "    </tr>\n",
       "  </tbody>\n",
       "</table>\n",
       "</div>"
      ],
      "text/plain": [
       "   CustomerID  Behavior1  Behavior2  Behavior3  Behavior4  Behavior5  \\\n",
       "0        2001  -3.193070 -19.705821   6.528556 -21.570858   3.050556   \n",
       "1        2002  -5.256678 -12.918720  25.435141  -7.231568   3.647838   \n",
       "2        2003   3.763819  -5.728187  11.400169 -17.555297  -6.246576   \n",
       "3        2004  -8.701132  -5.139959  21.404200 -18.084270  -9.109825   \n",
       "4        2005   2.278052 -11.677949  21.587127 -24.207612   0.506218   \n",
       "\n",
       "   Behavior6  Behavior7  Behavior8  Behavior9  Behavior10  Behavior11  Marker  \n",
       "0  23.477503  -1.133420  12.688409 -10.968301   -1.198666    1.908441     NaN  \n",
       "1  12.366550  -6.512076   8.750902  -0.768755   -3.261094   13.729474     NaN  \n",
       "2  16.155969  -9.724758  16.996616  -5.168654    0.187994   11.401234     NaN  \n",
       "3   6.903168  -3.486003   0.273855  -7.548916    9.057031    2.890973     NaN  \n",
       "4  -5.678402  14.149213  -3.416211  -1.982982   16.541657    4.778478     NaN  "
      ]
     },
     "execution_count": 6,
     "metadata": {},
     "output_type": "execute_result"
    }
   ],
   "source": [
    "df_test.head()"
   ]
  },
  {
   "cell_type": "markdown",
   "metadata": {},
   "source": [
    "# Split"
   ]
  },
  {
   "cell_type": "markdown",
   "metadata": {},
   "source": [
    "Split `df_unknown` into train and validation set:"
   ]
  },
  {
   "cell_type": "code",
   "execution_count": 7,
   "metadata": {},
   "outputs": [],
   "source": [
    "df_train, df_valid = train_test_split(df_unknown, test_size=0.2, random_state=123)"
   ]
  },
  {
   "cell_type": "markdown",
   "metadata": {},
   "source": [
    "# Preprocessing"
   ]
  },
  {
   "cell_type": "markdown",
   "metadata": {},
   "source": [
    "Define the feature columns:"
   ]
  },
  {
   "cell_type": "code",
   "execution_count": 8,
   "metadata": {},
   "outputs": [
    {
     "data": {
      "text/plain": [
       "['Behavior1',\n",
       " 'Behavior2',\n",
       " 'Behavior3',\n",
       " 'Behavior4',\n",
       " 'Behavior5',\n",
       " 'Behavior6',\n",
       " 'Behavior7',\n",
       " 'Behavior8',\n",
       " 'Behavior9',\n",
       " 'Behavior10',\n",
       " 'Behavior11']"
      ]
     },
     "execution_count": 8,
     "metadata": {},
     "output_type": "execute_result"
    }
   ],
   "source": [
    "feature_cols = [f\"Behavior{i}\" for i in range(1, 12)]\n",
    "feature_cols"
   ]
  },
  {
   "cell_type": "markdown",
   "metadata": {},
   "source": [
    "Standardize the feature columns for all datasets:"
   ]
  },
  {
   "cell_type": "code",
   "execution_count": 9,
   "metadata": {},
   "outputs": [
    {
     "data": {
      "text/plain": [
       "StandardScaler(copy=True, with_mean=True, with_std=True)"
      ]
     },
     "execution_count": 9,
     "metadata": {},
     "output_type": "execute_result"
    }
   ],
   "source": [
    "scaler = StandardScaler()\n",
    "scaler.fit(df_train[feature_cols])"
   ]
  },
  {
   "cell_type": "code",
   "execution_count": 10,
   "metadata": {},
   "outputs": [],
   "source": [
    "train_feat = scaler.transform(df_train[feature_cols])\n",
    "valid_feat = scaler.transform(df_valid[feature_cols])\n",
    "test_feat = scaler.transform(df_test[feature_cols])\n",
    "fraud_feat = scaler.transform(df_fraud[feature_cols])"
   ]
  },
  {
   "cell_type": "code",
   "execution_count": 11,
   "metadata": {},
   "outputs": [],
   "source": [
    "df_train_feat = pd.DataFrame.from_records(train_feat, columns=feature_cols)\n",
    "df_valid_feat = pd.DataFrame.from_records(valid_feat, columns=feature_cols)\n",
    "df_test_feat  = pd.DataFrame.from_records(test_feat, columns=feature_cols)\n",
    "df_fraud_feat = pd.DataFrame.from_records(fraud_feat, columns=feature_cols)"
   ]
  },
  {
   "cell_type": "markdown",
   "metadata": {},
   "source": [
    "Add the customer id to `df_test_feat`:"
   ]
  },
  {
   "cell_type": "code",
   "execution_count": 12,
   "metadata": {},
   "outputs": [
    {
     "data": {
      "text/html": [
       "<div>\n",
       "<style scoped>\n",
       "    .dataframe tbody tr th:only-of-type {\n",
       "        vertical-align: middle;\n",
       "    }\n",
       "\n",
       "    .dataframe tbody tr th {\n",
       "        vertical-align: top;\n",
       "    }\n",
       "\n",
       "    .dataframe thead th {\n",
       "        text-align: right;\n",
       "    }\n",
       "</style>\n",
       "<table border=\"1\" class=\"dataframe\">\n",
       "  <thead>\n",
       "    <tr style=\"text-align: right;\">\n",
       "      <th></th>\n",
       "      <th>Behavior1</th>\n",
       "      <th>Behavior2</th>\n",
       "      <th>Behavior3</th>\n",
       "      <th>Behavior4</th>\n",
       "      <th>Behavior5</th>\n",
       "      <th>Behavior6</th>\n",
       "      <th>Behavior7</th>\n",
       "      <th>Behavior8</th>\n",
       "      <th>Behavior9</th>\n",
       "      <th>Behavior10</th>\n",
       "      <th>Behavior11</th>\n",
       "      <th>CustomerID</th>\n",
       "    </tr>\n",
       "  </thead>\n",
       "  <tbody>\n",
       "    <tr>\n",
       "      <th>0</th>\n",
       "      <td>-1.049550</td>\n",
       "      <td>-1.397937</td>\n",
       "      <td>-0.989136</td>\n",
       "      <td>-1.213002</td>\n",
       "      <td>1.343242</td>\n",
       "      <td>1.406939</td>\n",
       "      <td>0.651082</td>\n",
       "      <td>0.461592</td>\n",
       "      <td>-0.868932</td>\n",
       "      <td>-0.410050</td>\n",
       "      <td>-0.922280</td>\n",
       "      <td>2001</td>\n",
       "    </tr>\n",
       "    <tr>\n",
       "      <th>1</th>\n",
       "      <td>-1.312116</td>\n",
       "      <td>-0.458093</td>\n",
       "      <td>1.524306</td>\n",
       "      <td>0.355186</td>\n",
       "      <td>1.417673</td>\n",
       "      <td>0.224037</td>\n",
       "      <td>-0.066818</td>\n",
       "      <td>0.042204</td>\n",
       "      <td>0.980246</td>\n",
       "      <td>-0.657391</td>\n",
       "      <td>0.740002</td>\n",
       "      <td>2002</td>\n",
       "    </tr>\n",
       "    <tr>\n",
       "      <th>2</th>\n",
       "      <td>-0.164379</td>\n",
       "      <td>0.537615</td>\n",
       "      <td>-0.341504</td>\n",
       "      <td>-0.773848</td>\n",
       "      <td>0.184664</td>\n",
       "      <td>0.627469</td>\n",
       "      <td>-0.495621</td>\n",
       "      <td>0.920462</td>\n",
       "      <td>0.182544</td>\n",
       "      <td>-0.243752</td>\n",
       "      <td>0.412604</td>\n",
       "      <td>2003</td>\n",
       "    </tr>\n",
       "    <tr>\n",
       "      <th>3</th>\n",
       "      <td>-1.750377</td>\n",
       "      <td>0.619070</td>\n",
       "      <td>0.988432</td>\n",
       "      <td>-0.831698</td>\n",
       "      <td>-0.172145</td>\n",
       "      <td>-0.357610</td>\n",
       "      <td>0.337078</td>\n",
       "      <td>-0.860693</td>\n",
       "      <td>-0.248997</td>\n",
       "      <td>0.819886</td>\n",
       "      <td>-0.784115</td>\n",
       "      <td>2004</td>\n",
       "    </tr>\n",
       "    <tr>\n",
       "      <th>4</th>\n",
       "      <td>-0.353423</td>\n",
       "      <td>-0.286278</td>\n",
       "      <td>1.012751</td>\n",
       "      <td>-1.501365</td>\n",
       "      <td>1.026175</td>\n",
       "      <td>-1.697078</td>\n",
       "      <td>2.690885</td>\n",
       "      <td>-1.253725</td>\n",
       "      <td>0.760107</td>\n",
       "      <td>1.717496</td>\n",
       "      <td>-0.518693</td>\n",
       "      <td>2005</td>\n",
       "    </tr>\n",
       "  </tbody>\n",
       "</table>\n",
       "</div>"
      ],
      "text/plain": [
       "   Behavior1  Behavior2  Behavior3  Behavior4  Behavior5  Behavior6  \\\n",
       "0  -1.049550  -1.397937  -0.989136  -1.213002   1.343242   1.406939   \n",
       "1  -1.312116  -0.458093   1.524306   0.355186   1.417673   0.224037   \n",
       "2  -0.164379   0.537615  -0.341504  -0.773848   0.184664   0.627469   \n",
       "3  -1.750377   0.619070   0.988432  -0.831698  -0.172145  -0.357610   \n",
       "4  -0.353423  -0.286278   1.012751  -1.501365   1.026175  -1.697078   \n",
       "\n",
       "   Behavior7  Behavior8  Behavior9  Behavior10  Behavior11  CustomerID  \n",
       "0   0.651082   0.461592  -0.868932   -0.410050   -0.922280        2001  \n",
       "1  -0.066818   0.042204   0.980246   -0.657391    0.740002        2002  \n",
       "2  -0.495621   0.920462   0.182544   -0.243752    0.412604        2003  \n",
       "3   0.337078  -0.860693  -0.248997    0.819886   -0.784115        2004  \n",
       "4   2.690885  -1.253725   0.760107    1.717496   -0.518693        2005  "
      ]
     },
     "execution_count": 12,
     "metadata": {},
     "output_type": "execute_result"
    }
   ],
   "source": [
    "df_test_feat['CustomerID'] = df_test['CustomerID']\n",
    "df_test_feat.head()"
   ]
  },
  {
   "cell_type": "markdown",
   "metadata": {},
   "source": [
    "Save the results:"
   ]
  },
  {
   "cell_type": "code",
   "execution_count": 13,
   "metadata": {},
   "outputs": [],
   "source": [
    "df_train_feat.to_parquet('./data/train_feat.parquet')\n",
    "df_valid_feat.to_parquet('./data/valid_feat.parquet')\n",
    "df_test_feat.to_parquet('./data/test_feat.parquet')\n",
    "df_fraud_feat.to_parquet('./data/fraud_feat.parquet')"
   ]
  }
 ],
 "metadata": {
  "kernelspec": {
   "display_name": "Python 3",
   "language": "python",
   "name": "python3"
  },
  "language_info": {
   "codemirror_mode": {
    "name": "ipython",
    "version": 3
   },
   "file_extension": ".py",
   "mimetype": "text/x-python",
   "name": "python",
   "nbconvert_exporter": "python",
   "pygments_lexer": "ipython3",
   "version": "3.6.8"
  }
 },
 "nbformat": 4,
 "nbformat_minor": 2
}
